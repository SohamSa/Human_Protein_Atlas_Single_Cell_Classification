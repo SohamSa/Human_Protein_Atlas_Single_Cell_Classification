{
 "cells": [
  {
   "cell_type": "markdown",
   "metadata": {},
   "source": [
    "## FinalProject    \n",
    "\n",
    "    Shivani           sap29     \n",
    "    Anthika           ay27  \n",
    "    Alaa                as422   \n",
    "    Soham            sss43\n"
   ]
  },
  {
   "cell_type": "markdown",
   "metadata": {},
   "source": [
    "#### INTRODUCTION\n",
    "\n",
    "Human Protein Atlas - Single Cell Classification\n",
    "The basic idea is to Find individual human cell differences in microscope images. And use cell segmentor to get a data set where each image shows a single cell. \n"
   ]
  },
  {
   "cell_type": "markdown",
   "metadata": {},
   "source": [
    "##### importing ImageDataGenerator class from keras library"
   ]
  },
  {
   "cell_type": "code",
   "execution_count": 1,
   "metadata": {},
   "outputs": [
    {
     "name": "stdout",
     "output_type": "stream",
     "text": [
      "Found 204 images belonging to 4 classes.\n",
      "Found 204 images belonging to 4 classes.\n"
     ]
    }
   ],
   "source": [
    "from keras.preprocessing.image import ImageDataGenerator  #importing ImageDataGenerator class from keras library\n",
    "\n",
    "train_data=ImageDataGenerator(rescale=1./255,\n",
    "                              rotation_range=15,\n",
    "                              brightness_range=(0.5,0.8),\n",
    "                              horizontal_flip=True)  #Creating an object of ImageDataGenerator class with rescaling\n",
    "\n",
    "train_set=train_data.flow_from_directory('C:\\\\Users\\\\patel\\\\Downloads\\\\hpa-single-cell-image-classification\\\\Train_new',  #Directory where training images are present\n",
    "                                         target_size=(128,128),                                        #size after resizing\n",
    "                                         color_mode='rgb',                                           #color mode of the image\n",
    "                                         class_mode='categorical',                                        #number of classes is 2 so binary\n",
    "                                         batch_size=30,\n",
    "                                         interpolation='nearest')\n",
    "\n",
    "test_data=ImageDataGenerator(rescale=1./255)\n",
    "\n",
    "test_set=test_data.flow_from_directory('C:\\\\Users\\\\patel\\\\Downloads\\\\hpa-single-cell-image-classification\\\\Test_new',\n",
    "                                       target_size=(128,128),\n",
    "                                       color_mode='rgb',\n",
    "                                       class_mode='categorical',\n",
    "                                       batch_size=20,\n",
    "                                       shuffle=True,\n",
    "                                       interpolation='nearest')"
   ]
  },
  {
   "cell_type": "markdown",
   "metadata": {},
   "source": [
    "###### Advance Algorthim"
   ]
  },
  {
   "cell_type": "code",
   "execution_count": 2,
   "metadata": {},
   "outputs": [],
   "source": [
    "from keras.models import Sequential\n",
    "from keras.layers import Conv2D #importing sequential class from keras library\n",
    "from keras.layers import MaxPooling2D #importing MaxPooling2D from keras\n",
    "from keras.layers import Flatten #importing flatten#from keras.layers import Dropout\n",
    "from keras.layers import Dense\n",
    "from keras.optimizers import Adam\n"
   ]
  },
  {
   "cell_type": "markdown",
   "metadata": {},
   "source": [
    "##### Creating an object of Sequential class"
   ]
  },
  {
   "cell_type": "code",
   "execution_count": 3,
   "metadata": {},
   "outputs": [
    {
     "name": "stdout",
     "output_type": "stream",
     "text": [
      "Model: \"sequential\"\n",
      "_________________________________________________________________\n",
      "Layer (type)                 Output Shape              Param #   \n",
      "=================================================================\n",
      "conv2d (Conv2D)              (None, 126, 126, 16)      448       \n",
      "_________________________________________________________________\n",
      "max_pooling2d (MaxPooling2D) (None, 63, 63, 16)        0         \n",
      "_________________________________________________________________\n",
      "conv2d_1 (Conv2D)            (None, 61, 61, 16)        2320      \n",
      "_________________________________________________________________\n",
      "max_pooling2d_1 (MaxPooling2 (None, 30, 30, 16)        0         \n",
      "_________________________________________________________________\n",
      "conv2d_2 (Conv2D)            (None, 28, 28, 16)        2320      \n",
      "_________________________________________________________________\n",
      "max_pooling2d_2 (MaxPooling2 (None, 14, 14, 16)        0         \n",
      "_________________________________________________________________\n",
      "conv2d_3 (Conv2D)            (None, 12, 12, 8)         1160      \n",
      "_________________________________________________________________\n",
      "max_pooling2d_3 (MaxPooling2 (None, 6, 6, 8)           0         \n",
      "_________________________________________________________________\n",
      "conv2d_4 (Conv2D)            (None, 4, 4, 8)           584       \n",
      "_________________________________________________________________\n",
      "max_pooling2d_4 (MaxPooling2 (None, 2, 2, 8)           0         \n",
      "_________________________________________________________________\n",
      "flatten (Flatten)            (None, 32)                0         \n",
      "_________________________________________________________________\n",
      "dense (Dense)                (None, 8)                 264       \n",
      "_________________________________________________________________\n",
      "dense_1 (Dense)              (None, 4)                 36        \n",
      "_________________________________________________________________\n",
      "dense_2 (Dense)              (None, 1)                 5         \n",
      "=================================================================\n",
      "Total params: 7,137\n",
      "Trainable params: 7,137\n",
      "Non-trainable params: 0\n",
      "_________________________________________________________________\n"
     ]
    }
   ],
   "source": [
    "model=Sequential()            #Creating an object of Sequential class\n",
    "model.add(Conv2D(16,(3,3),activation='tanh',input_shape=(128,128,3)))\n",
    "model.add(MaxPooling2D(pool_size=(2,2)))\n",
    "#model.add(Dropout(0.5))\n",
    "model.add(Conv2D(16,(3,3),activation='tanh'))\n",
    "model.add(MaxPooling2D(pool_size=(2,2)))\n",
    "model.add(Conv2D(16,(3,3),activation='tanh'))\n",
    "model.add(MaxPooling2D(pool_size=(2,2)))\n",
    "#model.add(Dropout(0.5))\n",
    "model.add(Conv2D(8,(3,3),activation='tanh'))\n",
    "model.add(MaxPooling2D(pool_size=(2,2)))\n",
    "model.add(Conv2D(8,(3,3),activation='tanh' ))\n",
    "model.add(MaxPooling2D(pool_size=(2,2)))\n",
    "#model.add(Dropout(0.5))\n",
    "model.add(Flatten())\n",
    "model.add(Dense(8,activation='tanh'))\n",
    "model.add(Dense(4,activation='tanh'))\n",
    "model.add(Dense(1,activation='sigmoid'))\n",
    "summary=model.summary()\n",
    "from contextlib import redirect_stdout\n"
   ]
  },
  {
   "cell_type": "code",
   "execution_count": 4,
   "metadata": {},
   "outputs": [
    {
     "name": "stderr",
     "output_type": "stream",
     "text": [
      "c:\\users\\patel\\appdata\\local\\programs\\python\\python38\\lib\\site-packages\\tensorflow\\python\\keras\\engine\\training.py:1844: UserWarning: `Model.fit_generator` is deprecated and will be removed in a future version. Please use `Model.fit`, which supports generators.\n",
      "  warnings.warn('`Model.fit_generator` is deprecated and '\n"
     ]
    },
    {
     "name": "stdout",
     "output_type": "stream",
     "text": [
      "Epoch 1/7\n",
      "5/5 [==============================] - ETA: 0s - loss: 0.6437 - accuracy: 0.7346WARNING:tensorflow:Your input ran out of data; interrupting training. Make sure that your dataset or generator can generate at least `steps_per_epoch * epochs` batches (in this case, 30 batches). You may need to use the repeat() function when building your dataset.\n",
      "5/5 [==============================] - 58s 14s/step - loss: 0.6404 - accuracy: 0.7360 - val_loss: 0.5685 - val_accuracy: 0.7500\n",
      "Epoch 2/7\n",
      "5/5 [==============================] - 15s 3s/step - loss: 0.5689 - accuracy: 0.7500\n",
      "Epoch 3/7\n",
      "5/5 [==============================] - 16s 3s/step - loss: 0.5658 - accuracy: 0.7500\n",
      "Epoch 4/7\n",
      "5/5 [==============================] - 15s 3s/step - loss: 0.5662 - accuracy: 0.7500\n",
      "Epoch 5/7\n",
      "5/5 [==============================] - 16s 3s/step - loss: 0.5632 - accuracy: 0.7500\n",
      "Epoch 6/7\n",
      "5/5 [==============================] - 16s 3s/step - loss: 0.5639 - accuracy: 0.7500\n",
      "Epoch 7/7\n",
      "5/5 [==============================] - 16s 3s/step - loss: 0.5629 - accuracy: 0.7500\n"
     ]
    }
   ],
   "source": [
    "import matplotlib.pyplot as plt\n",
    "model.compile(optimizer=Adam(),loss='binary_crossentropy',metrics=['accuracy'])\n",
    "x=model.fit_generator(train_set,steps_per_epoch=5,epochs=7,validation_data=test_set,validation_steps=30,verbose=1)\n",
    "from keras.utils import plot_model"
   ]
  },
  {
   "cell_type": "markdown",
   "metadata": {},
   "source": [
    "###### Advance Model Evaluation "
   ]
  },
  {
   "cell_type": "code",
   "execution_count": 5,
   "metadata": {},
   "outputs": [
    {
     "name": "stdout",
     "output_type": "stream",
     "text": [
      "{'loss': [0.6237342953681946, 0.5665703415870667, 0.5665424466133118, 0.565603494644165, 0.5633292198181152, 0.5635590553283691, 0.5629294514656067], 'accuracy': [0.7430555820465088, 0.75, 0.75, 0.75, 0.75, 0.75, 0.75], 'val_loss': [0.5684625506401062], 'val_accuracy': [0.75]}\n"
     ]
    }
   ],
   "source": [
    "print(x.history)"
   ]
  },
  {
   "cell_type": "code",
   "execution_count": 8,
   "metadata": {},
   "outputs": [
    {
     "data": {
      "text/html": [
       "<div>\n",
       "<style scoped>\n",
       "    .dataframe tbody tr th:only-of-type {\n",
       "        vertical-align: middle;\n",
       "    }\n",
       "\n",
       "    .dataframe tbody tr th {\n",
       "        vertical-align: top;\n",
       "    }\n",
       "\n",
       "    .dataframe thead th {\n",
       "        text-align: right;\n",
       "    }\n",
       "</style>\n",
       "<table border=\"1\" class=\"dataframe\">\n",
       "  <thead>\n",
       "    <tr style=\"text-align: right;\">\n",
       "      <th></th>\n",
       "      <th>ID</th>\n",
       "      <th>ImageWidth</th>\n",
       "      <th>ImageHeight</th>\n",
       "      <th>PredictionString</th>\n",
       "    </tr>\n",
       "  </thead>\n",
       "  <tbody>\n",
       "    <tr>\n",
       "      <th>0</th>\n",
       "      <td>0040581b-f1f2-4fbe-b043-b6bfea5404bb</td>\n",
       "      <td>2048</td>\n",
       "      <td>2048</td>\n",
       "      <td>0 1 eNoLCAgIMAEABJkBdQ==</td>\n",
       "    </tr>\n",
       "    <tr>\n",
       "      <th>1</th>\n",
       "      <td>004a270d-34a2-4d60-bbe4-365fca868193</td>\n",
       "      <td>2048</td>\n",
       "      <td>2048</td>\n",
       "      <td>0 1 eNoLCAgIMAEABJkBdQ==</td>\n",
       "    </tr>\n",
       "    <tr>\n",
       "      <th>2</th>\n",
       "      <td>00537262-883c-4b37-a3a1-a4931b6faea5</td>\n",
       "      <td>2048</td>\n",
       "      <td>2048</td>\n",
       "      <td>0 1 eNoLCAgIMAEABJkBdQ==</td>\n",
       "    </tr>\n",
       "    <tr>\n",
       "      <th>3</th>\n",
       "      <td>00c9a1c9-2f06-476f-8b0d-6d01032874a2</td>\n",
       "      <td>2048</td>\n",
       "      <td>2048</td>\n",
       "      <td>0 1 eNoLCAgIMAEABJkBdQ==</td>\n",
       "    </tr>\n",
       "    <tr>\n",
       "      <th>4</th>\n",
       "      <td>0173029a-161d-40ef-af28-2342915b22fb</td>\n",
       "      <td>3072</td>\n",
       "      <td>3072</td>\n",
       "      <td>0 1 eNoLCAgIsAQABJ4Beg==</td>\n",
       "    </tr>\n",
       "  </tbody>\n",
       "</table>\n",
       "</div>"
      ],
      "text/plain": [
       "                                     ID  ImageWidth  ImageHeight  \\\n",
       "0  0040581b-f1f2-4fbe-b043-b6bfea5404bb        2048         2048   \n",
       "1  004a270d-34a2-4d60-bbe4-365fca868193        2048         2048   \n",
       "2  00537262-883c-4b37-a3a1-a4931b6faea5        2048         2048   \n",
       "3  00c9a1c9-2f06-476f-8b0d-6d01032874a2        2048         2048   \n",
       "4  0173029a-161d-40ef-af28-2342915b22fb        3072         3072   \n",
       "\n",
       "           PredictionString  \n",
       "0  0 1 eNoLCAgIMAEABJkBdQ==  \n",
       "1  0 1 eNoLCAgIMAEABJkBdQ==  \n",
       "2  0 1 eNoLCAgIMAEABJkBdQ==  \n",
       "3  0 1 eNoLCAgIMAEABJkBdQ==  \n",
       "4  0 1 eNoLCAgIsAQABJ4Beg==  "
      ]
     },
     "execution_count": 8,
     "metadata": {},
     "output_type": "execute_result"
    }
   ],
   "source": [
    "import numpy as np\n",
    "import pandas as pd\n",
    "\n",
    "df = pd.read_csv(r'C:\\Users\\patel\\Downloads\\hpa-single-cell-image-classification\\sample_submission.csv')\n",
    "df.head()"
   ]
  },
  {
   "cell_type": "code",
   "execution_count": 9,
   "metadata": {},
   "outputs": [
    {
     "data": {
      "text/html": [
       "<div>\n",
       "<style scoped>\n",
       "    .dataframe tbody tr th:only-of-type {\n",
       "        vertical-align: middle;\n",
       "    }\n",
       "\n",
       "    .dataframe tbody tr th {\n",
       "        vertical-align: top;\n",
       "    }\n",
       "\n",
       "    .dataframe thead th {\n",
       "        text-align: right;\n",
       "    }\n",
       "</style>\n",
       "<table border=\"1\" class=\"dataframe\">\n",
       "  <thead>\n",
       "    <tr style=\"text-align: right;\">\n",
       "      <th></th>\n",
       "      <th>ID</th>\n",
       "      <th>ImageWidth</th>\n",
       "      <th>ImageHeight</th>\n",
       "      <th>PredictionString</th>\n",
       "    </tr>\n",
       "  </thead>\n",
       "  <tbody>\n",
       "    <tr>\n",
       "      <th>0</th>\n",
       "      <td>0040581b-f1f2-4fbe-b043-b6bfea5404bb</td>\n",
       "      <td>2048</td>\n",
       "      <td>2048</td>\n",
       "      <td>0 1 eNoLCAgIMAEABJkBdQ==</td>\n",
       "    </tr>\n",
       "    <tr>\n",
       "      <th>1</th>\n",
       "      <td>004a270d-34a2-4d60-bbe4-365fca868193</td>\n",
       "      <td>2048</td>\n",
       "      <td>2048</td>\n",
       "      <td>0 1 eNoLCAgIMAEABJkBdQ==</td>\n",
       "    </tr>\n",
       "    <tr>\n",
       "      <th>2</th>\n",
       "      <td>00537262-883c-4b37-a3a1-a4931b6faea5</td>\n",
       "      <td>2048</td>\n",
       "      <td>2048</td>\n",
       "      <td>0 1 eNoLCAgIMAEABJkBdQ==</td>\n",
       "    </tr>\n",
       "    <tr>\n",
       "      <th>3</th>\n",
       "      <td>00c9a1c9-2f06-476f-8b0d-6d01032874a2</td>\n",
       "      <td>2048</td>\n",
       "      <td>2048</td>\n",
       "      <td>0 1 eNoLCAgIMAEABJkBdQ==</td>\n",
       "    </tr>\n",
       "    <tr>\n",
       "      <th>4</th>\n",
       "      <td>0173029a-161d-40ef-af28-2342915b22fb</td>\n",
       "      <td>3072</td>\n",
       "      <td>3072</td>\n",
       "      <td>0 1 eNoLCAgIsAQABJ4Beg==</td>\n",
       "    </tr>\n",
       "  </tbody>\n",
       "</table>\n",
       "</div>"
      ],
      "text/plain": [
       "                                     ID  ImageWidth  ImageHeight  \\\n",
       "0  0040581b-f1f2-4fbe-b043-b6bfea5404bb        2048         2048   \n",
       "1  004a270d-34a2-4d60-bbe4-365fca868193        2048         2048   \n",
       "2  00537262-883c-4b37-a3a1-a4931b6faea5        2048         2048   \n",
       "3  00c9a1c9-2f06-476f-8b0d-6d01032874a2        2048         2048   \n",
       "4  0173029a-161d-40ef-af28-2342915b22fb        3072         3072   \n",
       "\n",
       "           PredictionString  \n",
       "0  0 1 eNoLCAgIMAEABJkBdQ==  \n",
       "1  0 1 eNoLCAgIMAEABJkBdQ==  \n",
       "2  0 1 eNoLCAgIMAEABJkBdQ==  \n",
       "3  0 1 eNoLCAgIMAEABJkBdQ==  \n",
       "4  0 1 eNoLCAgIsAQABJ4Beg==  "
      ]
     },
     "execution_count": 9,
     "metadata": {},
     "output_type": "execute_result"
    }
   ],
   "source": [
    "df.fillna(\"None\", inplace = True) \n",
    "df.head()"
   ]
  },
  {
   "cell_type": "markdown",
   "metadata": {},
   "source": [
    "##### Features Engineering"
   ]
  },
  {
   "cell_type": "code",
   "execution_count": 11,
   "metadata": {},
   "outputs": [
    {
     "name": "stdout",
     "output_type": "stream",
     "text": [
      "                                       ID  ImageWidth  ImageHeight  \\\n",
      "0    0040581b-f1f2-4fbe-b043-b6bfea5404bb        2048         2048   \n",
      "1    004a270d-34a2-4d60-bbe4-365fca868193        2048         2048   \n",
      "2    00537262-883c-4b37-a3a1-a4931b6faea5        2048         2048   \n",
      "3    00c9a1c9-2f06-476f-8b0d-6d01032874a2        2048         2048   \n",
      "4    0173029a-161d-40ef-af28-2342915b22fb        3072         3072   \n",
      "..                                    ...         ...          ...   \n",
      "554  fea47298-266a-4cf4-93bd-55d1bcc2fc7d        1728         1728   \n",
      "555  feb955db-6c07-4717-a98b-92236c8e01d8        2048         2048   \n",
      "556  fefb9bb7-934a-40d1-8d2f-210265857388        2048         2048   \n",
      "557  ff069fa2-d948-408e-91b3-034cfea428d1        3072         3072   \n",
      "558  ff23eea9-4bbe-42af-a8da-9ae16321fc6d        2048         2048   \n",
      "\n",
      "             PredictionString  \n",
      "0    0 1 eNoLCAgIMAEABJkBdQ==  \n",
      "1    0 1 eNoLCAgIMAEABJkBdQ==  \n",
      "2    0 1 eNoLCAgIMAEABJkBdQ==  \n",
      "3    0 1 eNoLCAgIMAEABJkBdQ==  \n",
      "4    0 1 eNoLCAgIsAQABJ4Beg==  \n",
      "..                        ...  \n",
      "554  0 1 eNoLCAjJNgIABNkBkg==  \n",
      "555  0 1 eNoLCAgIMAEABJkBdQ==  \n",
      "556  0 1 eNoLCAgIMAEABJkBdQ==  \n",
      "557  0 1 eNoLCAgIsAQABJ4Beg==  \n",
      "558  0 1 eNoLCAgIMAEABJkBdQ==  \n",
      "\n",
      "[559 rows x 4 columns]\n"
     ]
    },
    {
     "data": {
      "text/html": [
       "<div>\n",
       "<style scoped>\n",
       "    .dataframe tbody tr th:only-of-type {\n",
       "        vertical-align: middle;\n",
       "    }\n",
       "\n",
       "    .dataframe tbody tr th {\n",
       "        vertical-align: top;\n",
       "    }\n",
       "\n",
       "    .dataframe thead th {\n",
       "        text-align: right;\n",
       "    }\n",
       "</style>\n",
       "<table border=\"1\" class=\"dataframe\">\n",
       "  <thead>\n",
       "    <tr style=\"text-align: right;\">\n",
       "      <th></th>\n",
       "      <th>ID</th>\n",
       "      <th>ImageWidth</th>\n",
       "      <th>ImageHeight</th>\n",
       "      <th>PredictionString</th>\n",
       "    </tr>\n",
       "  </thead>\n",
       "  <tbody>\n",
       "    <tr>\n",
       "      <th>0</th>\n",
       "      <td>0040581b-f1f2-4fbe-b043-b6bfea5404bb</td>\n",
       "      <td>2048</td>\n",
       "      <td>2048</td>\n",
       "      <td>0 1 eNoLCAgIMAEABJkBdQ==</td>\n",
       "    </tr>\n",
       "    <tr>\n",
       "      <th>1</th>\n",
       "      <td>004a270d-34a2-4d60-bbe4-365fca868193</td>\n",
       "      <td>2048</td>\n",
       "      <td>2048</td>\n",
       "      <td>0 1 eNoLCAgIMAEABJkBdQ==</td>\n",
       "    </tr>\n",
       "    <tr>\n",
       "      <th>2</th>\n",
       "      <td>00537262-883c-4b37-a3a1-a4931b6faea5</td>\n",
       "      <td>2048</td>\n",
       "      <td>2048</td>\n",
       "      <td>0 1 eNoLCAgIMAEABJkBdQ==</td>\n",
       "    </tr>\n",
       "    <tr>\n",
       "      <th>3</th>\n",
       "      <td>00c9a1c9-2f06-476f-8b0d-6d01032874a2</td>\n",
       "      <td>2048</td>\n",
       "      <td>2048</td>\n",
       "      <td>0 1 eNoLCAgIMAEABJkBdQ==</td>\n",
       "    </tr>\n",
       "    <tr>\n",
       "      <th>4</th>\n",
       "      <td>0173029a-161d-40ef-af28-2342915b22fb</td>\n",
       "      <td>3072</td>\n",
       "      <td>3072</td>\n",
       "      <td>0 1 eNoLCAgIsAQABJ4Beg==</td>\n",
       "    </tr>\n",
       "    <tr>\n",
       "      <th>...</th>\n",
       "      <td>...</td>\n",
       "      <td>...</td>\n",
       "      <td>...</td>\n",
       "      <td>...</td>\n",
       "    </tr>\n",
       "    <tr>\n",
       "      <th>554</th>\n",
       "      <td>fea47298-266a-4cf4-93bd-55d1bcc2fc7d</td>\n",
       "      <td>1728</td>\n",
       "      <td>1728</td>\n",
       "      <td>0 1 eNoLCAjJNgIABNkBkg==</td>\n",
       "    </tr>\n",
       "    <tr>\n",
       "      <th>555</th>\n",
       "      <td>feb955db-6c07-4717-a98b-92236c8e01d8</td>\n",
       "      <td>2048</td>\n",
       "      <td>2048</td>\n",
       "      <td>0 1 eNoLCAgIMAEABJkBdQ==</td>\n",
       "    </tr>\n",
       "    <tr>\n",
       "      <th>556</th>\n",
       "      <td>fefb9bb7-934a-40d1-8d2f-210265857388</td>\n",
       "      <td>2048</td>\n",
       "      <td>2048</td>\n",
       "      <td>0 1 eNoLCAgIMAEABJkBdQ==</td>\n",
       "    </tr>\n",
       "    <tr>\n",
       "      <th>557</th>\n",
       "      <td>ff069fa2-d948-408e-91b3-034cfea428d1</td>\n",
       "      <td>3072</td>\n",
       "      <td>3072</td>\n",
       "      <td>0 1 eNoLCAgIsAQABJ4Beg==</td>\n",
       "    </tr>\n",
       "    <tr>\n",
       "      <th>558</th>\n",
       "      <td>ff23eea9-4bbe-42af-a8da-9ae16321fc6d</td>\n",
       "      <td>2048</td>\n",
       "      <td>2048</td>\n",
       "      <td>0 1 eNoLCAgIMAEABJkBdQ==</td>\n",
       "    </tr>\n",
       "  </tbody>\n",
       "</table>\n",
       "<p>559 rows × 4 columns</p>\n",
       "</div>"
      ],
      "text/plain": [
       "                                       ID  ImageWidth  ImageHeight  \\\n",
       "0    0040581b-f1f2-4fbe-b043-b6bfea5404bb        2048         2048   \n",
       "1    004a270d-34a2-4d60-bbe4-365fca868193        2048         2048   \n",
       "2    00537262-883c-4b37-a3a1-a4931b6faea5        2048         2048   \n",
       "3    00c9a1c9-2f06-476f-8b0d-6d01032874a2        2048         2048   \n",
       "4    0173029a-161d-40ef-af28-2342915b22fb        3072         3072   \n",
       "..                                    ...         ...          ...   \n",
       "554  fea47298-266a-4cf4-93bd-55d1bcc2fc7d        1728         1728   \n",
       "555  feb955db-6c07-4717-a98b-92236c8e01d8        2048         2048   \n",
       "556  fefb9bb7-934a-40d1-8d2f-210265857388        2048         2048   \n",
       "557  ff069fa2-d948-408e-91b3-034cfea428d1        3072         3072   \n",
       "558  ff23eea9-4bbe-42af-a8da-9ae16321fc6d        2048         2048   \n",
       "\n",
       "             PredictionString  \n",
       "0    0 1 eNoLCAgIMAEABJkBdQ==  \n",
       "1    0 1 eNoLCAgIMAEABJkBdQ==  \n",
       "2    0 1 eNoLCAgIMAEABJkBdQ==  \n",
       "3    0 1 eNoLCAgIMAEABJkBdQ==  \n",
       "4    0 1 eNoLCAgIsAQABJ4Beg==  \n",
       "..                        ...  \n",
       "554  0 1 eNoLCAjJNgIABNkBkg==  \n",
       "555  0 1 eNoLCAgIMAEABJkBdQ==  \n",
       "556  0 1 eNoLCAgIMAEABJkBdQ==  \n",
       "557  0 1 eNoLCAgIsAQABJ4Beg==  \n",
       "558  0 1 eNoLCAgIMAEABJkBdQ==  \n",
       "\n",
       "[559 rows x 4 columns]"
      ]
     },
     "execution_count": 11,
     "metadata": {},
     "output_type": "execute_result"
    }
   ],
   "source": [
    "#Data Cleaning\n",
    "print(df.fillna(method='ffill'))\n",
    "df.fillna(method='ffill')"
   ]
  },
  {
   "cell_type": "code",
   "execution_count": 12,
   "metadata": {},
   "outputs": [],
   "source": [
    "X= df.iloc[:,:-1]\n",
    "y= df.iloc[:,3]"
   ]
  },
  {
   "cell_type": "markdown",
   "metadata": {},
   "source": [
    "##### Encoder to Encode convert categorical data to numerical values"
   ]
  },
  {
   "cell_type": "code",
   "execution_count": 13,
   "metadata": {},
   "outputs": [],
   "source": [
    "from sklearn.preprocessing import LabelEncoder"
   ]
  },
  {
   "cell_type": "code",
   "execution_count": 14,
   "metadata": {},
   "outputs": [
    {
     "data": {
      "text/html": [
       "<div>\n",
       "<style scoped>\n",
       "    .dataframe tbody tr th:only-of-type {\n",
       "        vertical-align: middle;\n",
       "    }\n",
       "\n",
       "    .dataframe tbody tr th {\n",
       "        vertical-align: top;\n",
       "    }\n",
       "\n",
       "    .dataframe thead th {\n",
       "        text-align: right;\n",
       "    }\n",
       "</style>\n",
       "<table border=\"1\" class=\"dataframe\">\n",
       "  <thead>\n",
       "    <tr style=\"text-align: right;\">\n",
       "      <th></th>\n",
       "      <th>ID</th>\n",
       "      <th>ImageWidth</th>\n",
       "      <th>ImageHeight</th>\n",
       "    </tr>\n",
       "  </thead>\n",
       "  <tbody>\n",
       "    <tr>\n",
       "      <th>0</th>\n",
       "      <td>0</td>\n",
       "      <td>1</td>\n",
       "      <td>1</td>\n",
       "    </tr>\n",
       "    <tr>\n",
       "      <th>1</th>\n",
       "      <td>1</td>\n",
       "      <td>1</td>\n",
       "      <td>1</td>\n",
       "    </tr>\n",
       "    <tr>\n",
       "      <th>2</th>\n",
       "      <td>2</td>\n",
       "      <td>1</td>\n",
       "      <td>1</td>\n",
       "    </tr>\n",
       "    <tr>\n",
       "      <th>3</th>\n",
       "      <td>3</td>\n",
       "      <td>1</td>\n",
       "      <td>1</td>\n",
       "    </tr>\n",
       "    <tr>\n",
       "      <th>4</th>\n",
       "      <td>4</td>\n",
       "      <td>2</td>\n",
       "      <td>2</td>\n",
       "    </tr>\n",
       "    <tr>\n",
       "      <th>...</th>\n",
       "      <td>...</td>\n",
       "      <td>...</td>\n",
       "      <td>...</td>\n",
       "    </tr>\n",
       "    <tr>\n",
       "      <th>554</th>\n",
       "      <td>554</td>\n",
       "      <td>0</td>\n",
       "      <td>0</td>\n",
       "    </tr>\n",
       "    <tr>\n",
       "      <th>555</th>\n",
       "      <td>555</td>\n",
       "      <td>1</td>\n",
       "      <td>1</td>\n",
       "    </tr>\n",
       "    <tr>\n",
       "      <th>556</th>\n",
       "      <td>556</td>\n",
       "      <td>1</td>\n",
       "      <td>1</td>\n",
       "    </tr>\n",
       "    <tr>\n",
       "      <th>557</th>\n",
       "      <td>557</td>\n",
       "      <td>2</td>\n",
       "      <td>2</td>\n",
       "    </tr>\n",
       "    <tr>\n",
       "      <th>558</th>\n",
       "      <td>558</td>\n",
       "      <td>1</td>\n",
       "      <td>1</td>\n",
       "    </tr>\n",
       "  </tbody>\n",
       "</table>\n",
       "<p>559 rows × 3 columns</p>\n",
       "</div>"
      ],
      "text/plain": [
       "      ID  ImageWidth  ImageHeight\n",
       "0      0           1            1\n",
       "1      1           1            1\n",
       "2      2           1            1\n",
       "3      3           1            1\n",
       "4      4           2            2\n",
       "..   ...         ...          ...\n",
       "554  554           0            0\n",
       "555  555           1            1\n",
       "556  556           1            1\n",
       "557  557           2            2\n",
       "558  558           1            1\n",
       "\n",
       "[559 rows x 3 columns]"
      ]
     },
     "execution_count": 14,
     "metadata": {},
     "output_type": "execute_result"
    }
   ],
   "source": [
    "LabelEncoder_X = LabelEncoder()\n",
    "X = X.apply(LabelEncoder().fit_transform)\n",
    "X"
   ]
  },
  {
   "cell_type": "markdown",
   "metadata": {},
   "source": [
    "###### Split the data to training and testing "
   ]
  },
  {
   "cell_type": "code",
   "execution_count": 15,
   "metadata": {},
   "outputs": [],
   "source": [
    "from sklearn.model_selection import train_test_split\n",
    "X_train, X_test, y_train, y_test = train_test_split(X,y, random_state=42)"
   ]
  },
  {
   "cell_type": "markdown",
   "metadata": {},
   "source": [
    "### Supervised Learning\n",
    "1- KNN\n",
    "  \n",
    "2- Naive Gussian  "
   ]
  },
  {
   "cell_type": "code",
   "execution_count": 16,
   "metadata": {},
   "outputs": [
    {
     "name": "stdout",
     "output_type": "stream",
     "text": [
      "Accuracy 0.8642857142857143\n"
     ]
    }
   ],
   "source": [
    "#KNN\n",
    "from sklearn.neighbors import KNeighborsClassifier\n",
    "knn = KNeighborsClassifier(n_neighbors=7)\n",
    "#Fit the model\n",
    "knn.fit(X_train,y_train)\n",
    "#Get accuracy. Note: In case of classification algorithms score method represents accuracy.\n",
    "print(\"Accuracy\", knn.score(X_test,y_test))"
   ]
  },
  {
   "cell_type": "code",
   "execution_count": 17,
   "metadata": {},
   "outputs": [
    {
     "data": {
      "text/plain": [
       "array(['0 1 eNoLCAgIMAEABJkBdQ==', '0 1 eNoLCAgIMAEABJkBdQ==',\n",
       "       '0 1 eNoLCAgIMAEABJkBdQ==', '0 1 eNoLCAgIMAEABJkBdQ==',\n",
       "       '0 1 eNoLCAgIMAEABJkBdQ==', '0 1 eNoLCAgIMAEABJkBdQ==',\n",
       "       '0 1 eNoLCAgIMAEABJkBdQ==', '0 1 eNoLCAgIMAEABJkBdQ==',\n",
       "       '0 1 eNoLCAgIMAEABJkBdQ==', '0 1 eNoLCAgIMAEABJkBdQ==',\n",
       "       '0 1 eNoLCAgIMAEABJkBdQ==', '0 1 eNoLCAgIMAEABJkBdQ==',\n",
       "       '0 1 eNoLCAgIMAEABJkBdQ==', '0 1 eNoLCAgIMAEABJkBdQ==',\n",
       "       '0 1 eNoLCAgIMAEABJkBdQ==', '0 1 eNoLCAgIMAEABJkBdQ==',\n",
       "       '0 1 eNoLCAgIMAEABJkBdQ==', '0 1 eNoLCAgIMAEABJkBdQ==',\n",
       "       '0 1 eNoLCAgIMAEABJkBdQ==', '0 1 eNoLCAgIMAEABJkBdQ==',\n",
       "       '0 1 eNoLCAgIMAEABJkBdQ==', '0 1 eNoLCAgIMAEABJkBdQ==',\n",
       "       '0 1 eNoLCAgIMAEABJkBdQ==', '0 1 eNoLCAgIMAEABJkBdQ==',\n",
       "       '0 1 eNoLCAgIMAEABJkBdQ==', '0 1 eNoLCAgIMAEABJkBdQ==',\n",
       "       '0 1 eNoLCAgIMAEABJkBdQ==', '0 1 eNoLCAgIMAEABJkBdQ==',\n",
       "       '0 1 eNoLCAgIMAEABJkBdQ==', '0 1 eNoLCAgIMAEABJkBdQ==',\n",
       "       '0 1 eNoLCAgIMAEABJkBdQ==', '0 1 eNoLCAgIMAEABJkBdQ==',\n",
       "       '0 1 eNoLCAgIMAEABJkBdQ==', '0 1 eNoLCAgIMAEABJkBdQ==',\n",
       "       '0 1 eNoLCAgIMAEABJkBdQ==', '0 1 eNoLCAgIMAEABJkBdQ==',\n",
       "       '0 1 eNoLCAgIMAEABJkBdQ==', '0 1 eNoLCAgIMAEABJkBdQ==',\n",
       "       '0 1 eNoLCAgIMAEABJkBdQ==', '0 1 eNoLCAgIMAEABJkBdQ==',\n",
       "       '0 1 eNoLCAgIMAEABJkBdQ==', '0 1 eNoLCAgIMAEABJkBdQ==',\n",
       "       '0 1 eNoLCAgIMAEABJkBdQ==', '0 1 eNoLCAgIMAEABJkBdQ==',\n",
       "       '0 1 eNoLCAgIMAEABJkBdQ==', '0 1 eNoLCAgIMAEABJkBdQ==',\n",
       "       '0 1 eNoLCAgIMAEABJkBdQ==', '0 1 eNoLCAgIMAEABJkBdQ==',\n",
       "       '0 1 eNoLCAgIMAEABJkBdQ==', '0 1 eNoLCAgIMAEABJkBdQ==',\n",
       "       '0 1 eNoLCAgIMAEABJkBdQ==', '0 1 eNoLCAgIMAEABJkBdQ==',\n",
       "       '0 1 eNoLCAgIMAEABJkBdQ==', '0 1 eNoLCAgIMAEABJkBdQ==',\n",
       "       '0 1 eNoLCAgIMAEABJkBdQ==', '0 1 eNoLCAgIMAEABJkBdQ==',\n",
       "       '0 1 eNoLCAgIMAEABJkBdQ==', '0 1 eNoLCAgIMAEABJkBdQ==',\n",
       "       '0 1 eNoLCAgIMAEABJkBdQ==', '0 1 eNoLCAgIMAEABJkBdQ==',\n",
       "       '0 1 eNoLCAgIMAEABJkBdQ==', '0 1 eNoLCAgIMAEABJkBdQ==',\n",
       "       '0 1 eNoLCAgIMAEABJkBdQ==', '0 1 eNoLCAgIMAEABJkBdQ==',\n",
       "       '0 1 eNoLCAgIMAEABJkBdQ==', '0 1 eNoLCAgIMAEABJkBdQ==',\n",
       "       '0 1 eNoLCAgIMAEABJkBdQ==', '0 1 eNoLCAgIMAEABJkBdQ==',\n",
       "       '0 1 eNoLCAgIMAEABJkBdQ==', '0 1 eNoLCAgIMAEABJkBdQ==',\n",
       "       '0 1 eNoLCAgIMAEABJkBdQ==', '0 1 eNoLCAgIMAEABJkBdQ==',\n",
       "       '0 1 eNoLCAgIMAEABJkBdQ==', '0 1 eNoLCAgIMAEABJkBdQ==',\n",
       "       '0 1 eNoLCAgIMAEABJkBdQ==', '0 1 eNoLCAgIMAEABJkBdQ==',\n",
       "       '0 1 eNoLCAgIMAEABJkBdQ==', '0 1 eNoLCAgIMAEABJkBdQ==',\n",
       "       '0 1 eNoLCAgIMAEABJkBdQ==', '0 1 eNoLCAgIMAEABJkBdQ==',\n",
       "       '0 1 eNoLCAgIMAEABJkBdQ==', '0 1 eNoLCAgIMAEABJkBdQ==',\n",
       "       '0 1 eNoLCAgIMAEABJkBdQ==', '0 1 eNoLCAgIMAEABJkBdQ==',\n",
       "       '0 1 eNoLCAgIMAEABJkBdQ==', '0 1 eNoLCAgIMAEABJkBdQ==',\n",
       "       '0 1 eNoLCAgIMAEABJkBdQ==', '0 1 eNoLCAgIMAEABJkBdQ==',\n",
       "       '0 1 eNoLCAgIMAEABJkBdQ==', '0 1 eNoLCAgIMAEABJkBdQ==',\n",
       "       '0 1 eNoLCAgIMAEABJkBdQ==', '0 1 eNoLCAgIMAEABJkBdQ==',\n",
       "       '0 1 eNoLCAgIMAEABJkBdQ==', '0 1 eNoLCAgIMAEABJkBdQ==',\n",
       "       '0 1 eNoLCAgIMAEABJkBdQ==', '0 1 eNoLCAgIMAEABJkBdQ==',\n",
       "       '0 1 eNoLCAgIMAEABJkBdQ==', '0 1 eNoLCAgIMAEABJkBdQ==',\n",
       "       '0 1 eNoLCAgIMAEABJkBdQ==', '0 1 eNoLCAgIMAEABJkBdQ==',\n",
       "       '0 1 eNoLCAgIMAEABJkBdQ==', '0 1 eNoLCAgIMAEABJkBdQ==',\n",
       "       '0 1 eNoLCAgIMAEABJkBdQ==', '0 1 eNoLCAgIMAEABJkBdQ==',\n",
       "       '0 1 eNoLCAgIMAEABJkBdQ==', '0 1 eNoLCAgIMAEABJkBdQ==',\n",
       "       '0 1 eNoLCAgIMAEABJkBdQ==', '0 1 eNoLCAgIMAEABJkBdQ==',\n",
       "       '0 1 eNoLCAgIMAEABJkBdQ==', '0 1 eNoLCAgIMAEABJkBdQ==',\n",
       "       '0 1 eNoLCAgIMAEABJkBdQ==', '0 1 eNoLCAgIMAEABJkBdQ==',\n",
       "       '0 1 eNoLCAgIMAEABJkBdQ==', '0 1 eNoLCAgIMAEABJkBdQ==',\n",
       "       '0 1 eNoLCAgIMAEABJkBdQ==', '0 1 eNoLCAgIMAEABJkBdQ==',\n",
       "       '0 1 eNoLCAgIMAEABJkBdQ==', '0 1 eNoLCAgIMAEABJkBdQ==',\n",
       "       '0 1 eNoLCAgIMAEABJkBdQ==', '0 1 eNoLCAgIMAEABJkBdQ==',\n",
       "       '0 1 eNoLCAgIMAEABJkBdQ==', '0 1 eNoLCAgIMAEABJkBdQ==',\n",
       "       '0 1 eNoLCAgIMAEABJkBdQ==', '0 1 eNoLCAgIMAEABJkBdQ==',\n",
       "       '0 1 eNoLCAgIMAEABJkBdQ==', '0 1 eNoLCAgIMAEABJkBdQ==',\n",
       "       '0 1 eNoLCAgIMAEABJkBdQ==', '0 1 eNoLCAgIMAEABJkBdQ==',\n",
       "       '0 1 eNoLCAgIMAEABJkBdQ==', '0 1 eNoLCAgIMAEABJkBdQ==',\n",
       "       '0 1 eNoLCAgIMAEABJkBdQ==', '0 1 eNoLCAgIMAEABJkBdQ==',\n",
       "       '0 1 eNoLCAgIMAEABJkBdQ==', '0 1 eNoLCAgIMAEABJkBdQ==',\n",
       "       '0 1 eNoLCAgIMAEABJkBdQ==', '0 1 eNoLCAgIMAEABJkBdQ==',\n",
       "       '0 1 eNoLCAgIMAEABJkBdQ==', '0 1 eNoLCAgIMAEABJkBdQ==',\n",
       "       '0 1 eNoLCAgIMAEABJkBdQ==', '0 1 eNoLCAgIMAEABJkBdQ=='],\n",
       "      dtype=object)"
      ]
     },
     "execution_count": 17,
     "metadata": {},
     "output_type": "execute_result"
    }
   ],
   "source": [
    "#let us get the predictions using the classifier we had fit above\n",
    "y_pred = knn.predict(X_test)\n",
    "y_pred"
   ]
  },
  {
   "cell_type": "code",
   "execution_count": null,
   "metadata": {},
   "outputs": [],
   "source": [
    "#Naive Bayes\n",
    "from sklearn.naive_bayes import GaussianNB \n",
    "model = GaussianNB()                       \n",
    "model.fit(X_train, y_train)               \n",
    "y_model = model.predict(X_test)"
   ]
  },
  {
   "cell_type": "markdown",
   "metadata": {},
   "source": [
    "#### Model Evaluation"
   ]
  },
  {
   "cell_type": "code",
   "execution_count": 18,
   "metadata": {},
   "outputs": [
    {
     "data": {
      "text/plain": [
       "1.0"
      ]
     },
     "execution_count": 18,
     "metadata": {},
     "output_type": "execute_result"
    }
   ],
   "source": [
    " from sklearn.metrics import accuracy_score\n",
    "accuracy_score(y_test, y_model)"
   ]
  },
  {
   "cell_type": "code",
   "execution_count": null,
   "metadata": {},
   "outputs": [],
   "source": []
  }
 ],
 "metadata": {
  "kernelspec": {
   "display_name": "Python 3",
   "language": "python",
   "name": "python3"
  },
  "language_info": {
   "codemirror_mode": {
    "name": "ipython",
    "version": 3
   },
   "file_extension": ".py",
   "mimetype": "text/x-python",
   "name": "python",
   "nbconvert_exporter": "python",
   "pygments_lexer": "ipython3",
   "version": "3.8.5"
  }
 },
 "nbformat": 4,
 "nbformat_minor": 4
}
